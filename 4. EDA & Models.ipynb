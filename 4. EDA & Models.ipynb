{
 "cells": [
  {
   "cell_type": "code",
   "execution_count": 1,
   "id": "00409cd3",
   "metadata": {},
   "outputs": [],
   "source": [
    "import random\n",
    "import numpy as np\n",
    "import statsmodels.api as sm\n",
    "from sklearn.linear_model import LinearRegression\n",
    "from sklearn.model_selection import train_test_split\n",
    "import seaborn as sns\n",
    "import pandas as pd\n",
    "import matplotlib.pyplot as plt\n",
    "import scipy.stats as stats\n",
    "from sklearn.model_selection import KFold\n",
    "from sklearn.model_selection import cross_val_score, train_test_split, KFold, GridSearchCV\n",
    "from sklearn.linear_model import LinearRegression, Lasso, LassoCV, Ridge, RidgeCV\n",
    "\n",
    "\n",
    "%matplotlib inline"
   ]
  },
  {
   "cell_type": "markdown",
   "id": "cae9f61a",
   "metadata": {},
   "source": [
    "# 1. Simple EDA and Baseline Model"
   ]
  },
  {
   "cell_type": "code",
   "execution_count": null,
   "id": "953b3d6e",
   "metadata": {},
   "outputs": [],
   "source": [
    "top1000_clean = pd.read_pickle(\"top1000_oscars.pkl\")\n",
    "top1000_clean.head()"
   ]
  },
  {
   "cell_type": "code",
   "execution_count": null,
   "id": "76052554",
   "metadata": {},
   "outputs": [],
   "source": [
    "top1000_clean.shape"
   ]
  },
  {
   "cell_type": "code",
   "execution_count": null,
   "id": "df4c00dc",
   "metadata": {},
   "outputs": [],
   "source": [
    "top1000_clean.info()\n",
    "#3 variables have missing values\n",
    "#Domestic Open and Budget.\n",
    "#Domestic Open doesn't make sense to keep though, dropping"
   ]
  },
  {
   "cell_type": "code",
   "execution_count": null,
   "id": "c21c9091",
   "metadata": {},
   "outputs": [],
   "source": [
    "#Going to make a simplified dataframe with only the key features.\n",
    "smaller_df = top1000_clean.loc[:,['Title', 'Domestic_Gr','Budget', 'Genre',\n",
    "                                  'Rating', 'Distributor', 'Director', 'MainChar',\n",
    "                                  'Runtime_tot_mins', 'Years_Since_Release',\n",
    "                                  'Month_of_Release', 'cumul_freq_direct_r',\n",
    "                                 'cumul_freq_actor_r', 'star_power']]"
   ]
  },
  {
   "cell_type": "code",
   "execution_count": null,
   "id": "cfaf18dd",
   "metadata": {},
   "outputs": [],
   "source": [
    "#examining missing data\n",
    "smaller_df.info()\n",
    "#two variables with missing data"
   ]
  },
  {
   "cell_type": "code",
   "execution_count": null,
   "id": "df4f2743",
   "metadata": {},
   "outputs": [],
   "source": [
    "corrMatrix = smaller_df.corr()\n",
    "sns.heatmap(corrMatrix, annot=True);"
   ]
  },
  {
   "cell_type": "code",
   "execution_count": null,
   "id": "987f0d92",
   "metadata": {},
   "outputs": [],
   "source": [
    "sns.pairplot(smaller_df);\n",
    "#Target variable is skewed to the right / non-normal\n",
    "#It looks like our target variable is not linearly related to Budget or Runtime\n",
    "#We can see that the target variable is going to need a transformation due to is non-normality\n"
   ]
  },
  {
   "cell_type": "code",
   "execution_count": null,
   "id": "15349c32",
   "metadata": {
    "scrolled": false
   },
   "outputs": [],
   "source": [
    "smaller_df.corr()"
   ]
  },
  {
   "cell_type": "markdown",
   "id": "343236a4",
   "metadata": {},
   "source": [
    "### Setting up for modeling and building **baseline** model...\n",
    "\n",
    "Need to first dummy code categorical variables."
   ]
  },
  {
   "cell_type": "code",
   "execution_count": null,
   "id": "a3f3d54e",
   "metadata": {},
   "outputs": [],
   "source": [
    "#Month_of_Release\n",
    "smaller_df.Month_of_Release.unique()\n",
    "#going to categorize by quarters"
   ]
  },
  {
   "cell_type": "code",
   "execution_count": null,
   "id": "97bdf3bc",
   "metadata": {},
   "outputs": [],
   "source": [
    "smaller_df.groupby(['Month_of_Release']).Domestic_Gr.mean().sort_values(ascending=False)\n",
    "#Summer winter months seem to be best performing"
   ]
  },
  {
   "cell_type": "code",
   "execution_count": null,
   "id": "3347e509",
   "metadata": {},
   "outputs": [],
   "source": [
    "value = smaller_df['Month_of_Release']\n",
    "labels =  smaller_df['Domestic_Gr']\n",
    "sns.barplot(x=value,y=labels)\n",
    "plt.show()"
   ]
  },
  {
   "cell_type": "code",
   "execution_count": null,
   "id": "9f6074cc",
   "metadata": {},
   "outputs": [],
   "source": [
    "qtrs_dict = {'Jan': 'Q1', \"Feb\": 'Q1', 'Mar': 'Q1',\n",
    "            'Apr': 'Q2', 'May': 'Q2', 'Jun': 'Q2',\n",
    "            'Jul': 'Q3', 'Aug': 'Q3', 'Sep': 'Q3',\n",
    "            'Oct': 'Q4', 'Nov': 'Q4', 'Dec': 'Q4'}"
   ]
  },
  {
   "cell_type": "code",
   "execution_count": null,
   "id": "692c4972",
   "metadata": {},
   "outputs": [],
   "source": [
    "smaller_df['CY_Qtr'] = smaller_df['Month_of_Release'].map(qtrs_dict)\n",
    "smaller_df.head()"
   ]
  },
  {
   "cell_type": "code",
   "execution_count": null,
   "id": "75b3e288",
   "metadata": {},
   "outputs": [],
   "source": [
    "smaller_df.groupby(['CY_Qtr']).Domestic_Gr.median().sort_values(ascending=False)\n"
   ]
  },
  {
   "cell_type": "code",
   "execution_count": null,
   "id": "35100f49",
   "metadata": {},
   "outputs": [],
   "source": [
    "value = smaller_df['CY_Qtr']\n",
    "labels =  smaller_df['Domestic_Gr']\n",
    "sns.barplot(x=value,y=labels)\n",
    "plt.ticklabel_format(style='plain', axis='y')\n",
    "plt.show()"
   ]
  },
  {
   "cell_type": "code",
   "execution_count": null,
   "id": "0afe2474",
   "metadata": {},
   "outputs": [],
   "source": [
    "#Let's dummy code these now...\n",
    "qtrs_df = pd.get_dummies(smaller_df.CY_Qtr, drop_first=True)\n",
    "#Q1 will be the reference"
   ]
  },
  {
   "cell_type": "code",
   "execution_count": null,
   "id": "97c6141f",
   "metadata": {},
   "outputs": [],
   "source": [
    "df_catties = pd.concat([smaller_df, qtrs_df], axis=1)\n",
    "df_catties.head()"
   ]
  },
  {
   "cell_type": "markdown",
   "id": "693c769b",
   "metadata": {},
   "source": [
    "Now, let's address Rating..."
   ]
  },
  {
   "cell_type": "code",
   "execution_count": null,
   "id": "9ea630db",
   "metadata": {},
   "outputs": [],
   "source": [
    "df_catties.info()"
   ]
  },
  {
   "cell_type": "code",
   "execution_count": null,
   "id": "47356ea6",
   "metadata": {},
   "outputs": [],
   "source": [
    "df_catties[\"Rating\"].value_counts()"
   ]
  },
  {
   "cell_type": "code",
   "execution_count": null,
   "id": "82af41d4",
   "metadata": {},
   "outputs": [],
   "source": [
    "df_catties.groupby(['Rating']).Domestic_Gr.median().sort_values(ascending=False)"
   ]
  },
  {
   "cell_type": "code",
   "execution_count": null,
   "id": "b79bf27c",
   "metadata": {},
   "outputs": [],
   "source": [
    "value = df_catties['Rating']\n",
    "labels = df_catties['Domestic_Gr']\n",
    "sns.barplot(x=value,y=labels)\n",
    "plt.show()"
   ]
  },
  {
   "cell_type": "code",
   "execution_count": null,
   "id": "e15368aa",
   "metadata": {},
   "outputs": [],
   "source": [
    "ratings_df = pd.get_dummies(df_catties.Rating, drop_first=True)\n",
    "ratings_df\n",
    "#G is the reference"
   ]
  },
  {
   "cell_type": "code",
   "execution_count": null,
   "id": "11c21785",
   "metadata": {},
   "outputs": [],
   "source": [
    "df_catties_rating = pd.concat([df_catties, ratings_df], axis=1)\n",
    "df_catties_rating.head()"
   ]
  },
  {
   "cell_type": "code",
   "execution_count": null,
   "id": "a025ae41",
   "metadata": {},
   "outputs": [],
   "source": [
    "df_catties_rating.info()"
   ]
  },
  {
   "cell_type": "code",
   "execution_count": null,
   "id": "98c902af",
   "metadata": {},
   "outputs": [],
   "source": [
    "#need to dummy code Genre....but how???\n",
    "#let's parse out the FIRST genre listed\n",
    "df_catties_rating[\"top_genre\"] = df_catties_rating[\"Genre\"].apply(lambda x: x.split(',')[0])\n",
    "df_catties_rating.head()\n"
   ]
  },
  {
   "cell_type": "code",
   "execution_count": null,
   "id": "61e41d95",
   "metadata": {},
   "outputs": [],
   "source": [
    "df_catties_rating['top_genre'].value_counts()"
   ]
  },
  {
   "cell_type": "code",
   "execution_count": null,
   "id": "278b2a4c",
   "metadata": {},
   "outputs": [],
   "source": [
    "df_catties_rating.groupby(['top_genre']).Domestic_Gr.median().sort_values(ascending=False)\n"
   ]
  },
  {
   "cell_type": "code",
   "execution_count": null,
   "id": "5639c241",
   "metadata": {},
   "outputs": [],
   "source": [
    "value = df_catties_rating['top_genre']\n",
    "labels =  df_catties_rating['Domestic_Gr']\n",
    "sns.set(rc = {'figure.figsize':(20,8)})\n",
    "sns.barplot(x=value,y=labels)\n",
    "plt.show()"
   ]
  },
  {
   "cell_type": "code",
   "execution_count": null,
   "id": "bf40d558",
   "metadata": {},
   "outputs": [],
   "source": [
    "#need to first condense the amount of genres before we dummy code\n",
    "#condensing Fantasy, Mystery, and Documentary\n",
    "#genre_dict = {'Action': 'Action', \"Adventure\": 'Adventure', 'Comedy': 'Comedy',\n",
    "            #'Drama': 'Drama', 'Biography': 'Biography', 'Horror': 'Horror',\n",
    "            #'Animation': 'Animation', 'Fantasy': 'AA_Other', 'Mystery': 'AA_Other',\n",
    "            #'Dcoumentary': 'AA_Other'}"
   ]
  },
  {
   "cell_type": "code",
   "execution_count": null,
   "id": "971aa2b7",
   "metadata": {},
   "outputs": [],
   "source": [
    "#df3_catties_2['Genre_r'] = df3_catties_2['top_genre'].map(genre_dict)\n",
    "#df3_catties_2.head()"
   ]
  },
  {
   "cell_type": "code",
   "execution_count": null,
   "id": "2ab0caaf",
   "metadata": {},
   "outputs": [],
   "source": [
    "genre_df = pd.get_dummies(df_catties_rating.top_genre, drop_first=True)\n",
    "genre_df #action is reference"
   ]
  },
  {
   "cell_type": "code",
   "execution_count": null,
   "id": "8115dfba",
   "metadata": {},
   "outputs": [],
   "source": [
    "df_catties_rating_genre = pd.concat([df_catties_rating, genre_df], axis=1)\n",
    "df_catties_rating_genre.head()"
   ]
  },
  {
   "cell_type": "code",
   "execution_count": null,
   "id": "0f124892",
   "metadata": {},
   "outputs": [],
   "source": [
    "df_catties_rating_genre"
   ]
  },
  {
   "cell_type": "code",
   "execution_count": null,
   "id": "d2cce90f",
   "metadata": {
    "scrolled": true
   },
   "outputs": [],
   "source": [
    "#last one to dummy code...distributor....\n",
    "df_catties_rating_genre[\"Distributor\"].value_counts()"
   ]
  },
  {
   "cell_type": "code",
   "execution_count": null,
   "id": "bbf6d191",
   "metadata": {},
   "outputs": [],
   "source": [
    "#how many unique value counts in Distributor\n",
    "df_catties_rating_genre[\"Distributor\"].nunique()"
   ]
  },
  {
   "cell_type": "code",
   "execution_count": null,
   "id": "6aa26676",
   "metadata": {},
   "outputs": [],
   "source": [
    "df_catties_rating_genre.groupby(['Distributor']).Domestic_Gr.median().sort_values(ascending=False)"
   ]
  },
  {
   "cell_type": "code",
   "execution_count": null,
   "id": "478f23b3",
   "metadata": {},
   "outputs": [],
   "source": [
    "#checking out Newmarket Films because that is not familiar to me\n",
    "df_catties_rating_genre.loc[df_catties_rating_genre['Distributor'] == 'Newmarket Films']\n",
    "#only 1 movie with this distributor"
   ]
  },
  {
   "cell_type": "code",
   "execution_count": null,
   "id": "696f2990",
   "metadata": {},
   "outputs": [],
   "source": [
    "#going to retain top 6 most popular grossing movies\n",
    "distributors = pd.get_dummies(df_catties_rating_genre.Distributor) \n",
    "distributors\n"
   ]
  },
  {
   "cell_type": "code",
   "execution_count": null,
   "id": "5114aac4",
   "metadata": {},
   "outputs": [],
   "source": [
    "distibutors_list = list(distributors.columns)"
   ]
  },
  {
   "cell_type": "code",
   "execution_count": null,
   "id": "a5763dfa",
   "metadata": {},
   "outputs": [],
   "source": [
    "top_distributors = ['Warner Bros.','Twentieth Century Fox','Universal Pictures','Walt Disney Studios Motion Pictures',   \n",
    "                    'Sony Pictures Entertainment (SPE)','Paramount Pictures']\n",
    "\n",
    "for distributor in distibutors_list:\n",
    "    if distributor in top_distributors:\n",
    "        print(distributor)"
   ]
  },
  {
   "cell_type": "code",
   "execution_count": null,
   "id": "a461c3e2",
   "metadata": {},
   "outputs": [],
   "source": [
    "#Going to make a simplified dataframe with only the key features.\n",
    "distributors_r = distributors.loc[:,['Paramount Pictures', 'Sony Pictures Entertainment (SPE)',\n",
    "                                     'Twentieth Century Fox', 'Universal Pictures',\n",
    "                                  'Walt Disney Studios Motion Pictures', 'Warner Bros.']]\n"
   ]
  },
  {
   "cell_type": "code",
   "execution_count": null,
   "id": "14cdbc10",
   "metadata": {},
   "outputs": [],
   "source": [
    "distributors_r.head()"
   ]
  },
  {
   "cell_type": "code",
   "execution_count": null,
   "id": "38df9d6d",
   "metadata": {},
   "outputs": [],
   "source": [
    "df_catties_rating_genre_distrib = pd.concat([df_catties_rating_genre, distributors_r], axis=1)\n",
    "df_catties_rating_genre_distrib.head()\n"
   ]
  },
  {
   "cell_type": "code",
   "execution_count": null,
   "id": "819c6b29",
   "metadata": {},
   "outputs": [],
   "source": [
    "df_catties_rating_genre_distrib.info()"
   ]
  },
  {
   "cell_type": "code",
   "execution_count": null,
   "id": "689e3089",
   "metadata": {},
   "outputs": [],
   "source": [
    "#checking out all missing values in budget\n",
    "bool_series = pd.isnull(df_catties_rating_genre_distrib[\"Budget\"])\n",
    "df_catties_rating_genre_distrib[bool_series]"
   ]
  },
  {
   "cell_type": "code",
   "execution_count": null,
   "id": "d0a61841",
   "metadata": {},
   "outputs": [],
   "source": [
    "#quickdata = df_catties_rating_genre_distrib.drop(columns=['cumul_freq_direct_r', 'cumul_freq_actor_r',\n",
    "                                                          'CY_Qtr', 'Q2', 'Q3', 'Q4', 'PG',\n",
    "                                                          'PG-13', 'R', 'top_genre', 'Adventure',\n",
    "                                                          'Animation', 'Biography', 'Comedy', 'Crime',\n",
    "                                                          'Documentary', 'Drama', 'Fantasy', 'Horror',\n",
    "                                                          'Mystery', 'Paramount Pictures', 'Sony Pictures Entertainment (SPE)',\n",
    "                                                          'Twentieth Century Fox', 'Universal Pictures', 'Walt Disney Studios Motion Pictures',\n",
    "                                                          'Warner Bros.', 'star_power', 'z_scores_budget',\n",
    "                                                         'z_scores_target', 'z_scores_Runtime', 'z_scores_Years_Age'])"
   ]
  },
  {
   "cell_type": "code",
   "execution_count": null,
   "id": "a4a83f70",
   "metadata": {},
   "outputs": [],
   "source": [
    "#corrMatrix2 = quickdata.corr()\n",
    "#sns.heatmap(corrMatrix2, annot=True);"
   ]
  },
  {
   "cell_type": "code",
   "execution_count": null,
   "id": "e56894d2",
   "metadata": {},
   "outputs": [],
   "source": [
    "#sns.distplot(quickdata['Domestic_Gr'])\n",
    "#plt.title('Distribution of Domestic Gross', fontsize=18)\n",
    "#plt.xlabel('Life Exp (years)', fontsize=16)\n",
    "#plt.ylabel('Frequency', fontsize=16)\n",
    "\n",
    "#quickdata['Domestic_Gr'].hist(bins=100)\n"
   ]
  },
  {
   "cell_type": "markdown",
   "id": "599fdc83",
   "metadata": {},
   "source": [
    "# BASELINE MODEL\n",
    "\n",
    "Predictors (numeric): Budget, Runtime_tot_mins, Years_since_release\n",
    "\n",
    "Predictors (categorical): Genre, Rating, CY Quarter, Distributor\n",
    "\n",
    "Target: Domestic_Gr"
   ]
  },
  {
   "cell_type": "code",
   "execution_count": null,
   "id": "008e39ec",
   "metadata": {},
   "outputs": [],
   "source": [
    "#going to drop all rows with missing budget for time being\n",
    "#as this will be an issue in base model\n",
    "df = df_catties_rating_genre_distrib.dropna(subset=['Budget'])\n",
    "df.info()"
   ]
  },
  {
   "cell_type": "code",
   "execution_count": null,
   "id": "156e01b5",
   "metadata": {},
   "outputs": [],
   "source": [
    "baselinemodelvars = df.drop(columns=['Title', 'Genre', 'Rating', 'Distributor', 'Month_of_Release',\n",
    "                                                 'Director', 'MainChar', 'star_power', 'CY_Qtr', 'top_genre', 'cumul_freq_direct_r',\n",
    "'cumul_freq_actor_r'])\n",
    "baselinemodelvars.info()\n"
   ]
  },
  {
   "cell_type": "code",
   "execution_count": null,
   "id": "fa710336",
   "metadata": {},
   "outputs": [],
   "source": [
    "#going to use CV because a small dataset\n",
    "#Perform 5-fold cross validation on the data.\n",
    "#Before doing so, leave 20% of the data as test.\n",
    "X = df.drop(columns=['Domestic_Gr', 'Title', 'Genre', 'Rating', 'Distributor', 'Month_of_Release',\n",
    "                                                 'Director', 'MainChar', 'star_power', 'CY_Qtr', 'top_genre', 'cumul_freq_direct_r',\n",
    "'cumul_freq_actor_r'])\n",
    "\n",
    "y = df['Domestic_Gr']\n",
    "\n",
    "X_train, X_test, y_train, y_test = train_test_split(X, y, \n",
    "                                       test_size=.2,     \n",
    "                                       random_state=42)\n",
    "lm = LinearRegression() \n",
    "\n",
    "kf = KFold(n_splits=5, # number of folds\n",
    "     shuffle=True, # randomizes order of rows before split\n",
    "     random_state = 42) # using same number in future code/ rerunning allows us to replicate the split \n",
    "\n",
    "lr = lm.fit(X_train,y_train)\n",
    "\n",
    "#to see all validation scores\n",
    "lm_cv = cross_val_score(lm, X_train, y_train, # estimator, features, target\n",
    "     cv= kf, # folds created above; could also just use a number \n",
    "     scoring='r2') # scoring metric\n",
    "print('Simple regression scores: ', lm_cv)\n",
    "\n",
    "# to print the mean score with standard deviation, rounded to 2 decimals\n",
    "print('Simple mean cv r^2: ', np.round(np.mean(lm_cv), 3), \"+-\", np.round(np.std(lm_cv),3))\n",
    "\n",
    "mean_r2 = np.mean(lm_cv)\n",
    "std_r2 = np.std(lm_cv)"
   ]
  },
  {
   "cell_type": "code",
   "execution_count": null,
   "id": "4eedb667",
   "metadata": {},
   "outputs": [],
   "source": [
    "#Partition the smaller_df dataset into 60% training, and 20% validation, and 20% test.\n",
    "#Use 42 as the value for random state. \n",
    "\n",
    "#X = df.drop(columns=['Domestic_Gr', 'Title', 'Genre', 'Rating', 'Distributor', 'Month_of_Release',\n",
    "#'Director', 'MainChar', 'star_power', 'CY_Qtr', 'top_genre', 'cumul_freq_direct_r','cumul_freq_actor_r'])\n",
    "\n",
    "#y = df['Domestic_Gr']\n",
    "\n",
    "#X, X_test, y, y_test = train_test_split(X, y, test_size=.2, random_state=42)\n",
    "\n",
    "#X_train, X_val, y_train, y_val = train_test_split(X, y, test_size=.25,random_state=42)\n",
    "\n",
    "#Build the Model\n",
    "#model = LinearRegression()\n",
    "#lr = model.fit(X_train,y_train)\n",
    "\n",
    "#r_squared_train = lr.score(X_train, y_train)\n",
    "#r_squared_val = lr.score(X_val, y_val)\n",
    "\n",
    "#print(r_squared_train)\n",
    "#print(r_squared_val)"
   ]
  },
  {
   "cell_type": "code",
   "execution_count": null,
   "id": "d39b8d34",
   "metadata": {},
   "outputs": [],
   "source": [
    "# Fitted vs. Actual\n",
    "y_train_pred = lr.predict(X_train)\n",
    "plt.title('Fitted vs. Actual', fontsize=35)\n",
    "plt.scatter(y_train, y_train_pred, alpha=1)\n",
    "plt.plot([0, 40], [0, 40])"
   ]
  },
  {
   "cell_type": "code",
   "execution_count": null,
   "id": "aac28084",
   "metadata": {},
   "outputs": [],
   "source": [
    "# Plot Residuals vs. predicted\n",
    "\n",
    "lin_reg_residuals = y_train - y_train_pred\n",
    "plt.scatter(y_train_pred, lin_reg_residuals)\n",
    "plt.plot([0,400], [0, 0])\n",
    "plt.title(\"Residuals vs. Predictions\", fontsize=35)"
   ]
  },
  {
   "cell_type": "code",
   "execution_count": null,
   "id": "89155276",
   "metadata": {},
   "outputs": [],
   "source": [
    "#x = df.drop(columns=['Domestic_Gr', 'Title', 'Genre', 'Rating', 'Distributor', 'Month_of_Release', 'Director', 'MainChar', 'star_power', 'CY_Qtr', 'top_genre', 'cumul_freq_direct_r', 'cumul_freq_actor_r'])\n",
    "\n",
    "#x = sm.add_constant(x)\n",
    "#y = df['Domestic_Gr']\n",
    "\n",
    "#model_bl = sm.OLS(y,x, data = df)\n",
    "#fit_bl = model_bl.fit()\n",
    "#fit_bl.summary()"
   ]
  },
  {
   "cell_type": "code",
   "execution_count": null,
   "id": "c6638b5f",
   "metadata": {},
   "outputs": [],
   "source": [
    "#from scipy import stats\n",
    "#import matplotlib.pyplot as plt\n",
    "#predict=fit_bl.predict(x)\n",
    "#resid=y-predict\n",
    "# diagnose/inspect residual normality using qqplot:\n",
    "#stats.probplot(resid, dist=\"norm\", plot=plt)\n",
    "#plt.title(\"Normal Q-Q plot\")\n",
    "#plt.show()"
   ]
  },
  {
   "cell_type": "code",
   "execution_count": null,
   "id": "2ca0f558",
   "metadata": {},
   "outputs": [],
   "source": [
    "\n"
   ]
  },
  {
   "cell_type": "markdown",
   "id": "63cd9b2e",
   "metadata": {},
   "source": [
    "# 2. Outlier detection & Imputing missing values\n",
    "* Imputing missing values for Budget and Rating\n",
    "* outlier detection"
   ]
  },
  {
   "cell_type": "code",
   "execution_count": null,
   "id": "4caf4e0b",
   "metadata": {},
   "outputs": [],
   "source": [
    "df_catties_rating_genre_distrib.info()"
   ]
  },
  {
   "cell_type": "code",
   "execution_count": null,
   "id": "def08f13",
   "metadata": {
    "scrolled": true
   },
   "outputs": [],
   "source": [
    "sns.boxplot(df_catties_rating_genre_distrib['Domestic_Gr'])\n",
    "#domestic gross has MANY outliers..."
   ]
  },
  {
   "cell_type": "code",
   "execution_count": null,
   "id": "30b02206",
   "metadata": {
    "scrolled": true
   },
   "outputs": [],
   "source": [
    "sns.boxplot(df_catties_rating_genre_distrib['Runtime_tot_mins'])\n",
    "#many outliers as well"
   ]
  },
  {
   "cell_type": "code",
   "execution_count": null,
   "id": "f5e025cc",
   "metadata": {
    "scrolled": true
   },
   "outputs": [],
   "source": [
    "sns.boxplot(df_catties_rating_genre_distrib['Years_Since_Release'])\n",
    "#many outliers in Years_since_release"
   ]
  },
  {
   "cell_type": "code",
   "execution_count": null,
   "id": "49b654da",
   "metadata": {
    "scrolled": false
   },
   "outputs": [],
   "source": [
    "sns.boxplot(df_catties_rating_genre_distrib['Budget'])\n",
    "#budget has 5 outliers"
   ]
  },
  {
   "cell_type": "code",
   "execution_count": null,
   "id": "8543c0c1",
   "metadata": {},
   "outputs": [],
   "source": [
    "#Creating z scores of all these variables to detect outliers >= 3\n",
    "df_catties_rating_genre_distrib['z_scores_budget'] = (df_catties_rating_genre_distrib['Budget'] - df_catties_rating_genre_distrib['Budget'].mean())/df_catties_rating_genre_distrib['Budget'].std(ddof=0)\n",
    "\n",
    "df_catties_rating_genre_distrib['z_scores_target'] = (df_catties_rating_genre_distrib['Domestic_Gr'] - df_catties_rating_genre_distrib['Domestic_Gr'].mean())/df_catties_rating_genre_distrib['Domestic_Gr'].std(ddof=0)\n",
    "\n",
    "df_catties_rating_genre_distrib['z_scores_Runtime'] = (df_catties_rating_genre_distrib['Runtime_tot_mins'] - df_catties_rating_genre_distrib['Runtime_tot_mins'].mean())/df_catties_rating_genre_distrib['Runtime_tot_mins'].std(ddof=0)\n",
    "\n",
    "df_catties_rating_genre_distrib['z_scores_Years_Age'] = (df_catties_rating_genre_distrib['Years_Since_Release'] - df_catties_rating_genre_distrib['Years_Since_Release'].mean())/df_catties_rating_genre_distrib['Years_Since_Release'].std(ddof=0)\n",
    "\n",
    "#df_catties_rating_genre_distrib.loc[df_catties_rating_genre_distrib['z_scores_budget'] > 3]\n",
    "\n",
    "#19 outliers in our target variable!!!\n"
   ]
  },
  {
   "cell_type": "code",
   "execution_count": null,
   "id": "0193826d",
   "metadata": {},
   "outputs": [],
   "source": [
    "#checking out the outliers in the years since release\n",
    "#13 variables\n",
    "df_catties_rating_genre_distrib.loc[df_catties_rating_genre_distrib['z_scores_Years_Age'] > 3]\n"
   ]
  },
  {
   "cell_type": "code",
   "execution_count": null,
   "id": "71088104",
   "metadata": {},
   "outputs": [],
   "source": [
    "#let's drop outliers in target variable and see difference in model\n",
    "df2 = df_catties_rating_genre_distrib[df_catties_rating_genre_distrib.z_scores_target < 3]\n",
    "df3 = df_catties_rating_genre_distrib[df_catties_rating_genre_distrib.z_scores_budget < 3]\n",
    "df4 = df_catties_rating_genre_distrib[df_catties_rating_genre_distrib.z_scores_Runtime < 3]\n",
    "df5 = df_catties_rating_genre_distrib[df_catties_rating_genre_distrib.z_scores_Years_Age < 3]\n",
    "\n",
    "#df_catties_rating_genre_distrib['Budget'].fillna((df_catties_rating_genre_distrib['Budget'].median()), inplace=True)\n",
    "#df_catties_rating_genre_distrib.info()"
   ]
  },
  {
   "cell_type": "code",
   "execution_count": null,
   "id": "db09fd68",
   "metadata": {
    "scrolled": true
   },
   "outputs": [],
   "source": [
    "df5.info()\n",
    "#still missing values in budget though..."
   ]
  },
  {
   "cell_type": "markdown",
   "id": "6261e60b",
   "metadata": {},
   "source": [
    "## SECOND MODEL - outlier handling\n",
    "\n",
    "Predictors (numeric): Budget, Runtime_tot_mins, Years_since_release\n",
    "\n",
    "Predictors (categorical): Genre, Rating, CY Quarter, Distributor\n",
    "\n",
    "Target: Domestic_Gr"
   ]
  },
  {
   "cell_type": "code",
   "execution_count": null,
   "id": "8dd52ba8",
   "metadata": {},
   "outputs": [],
   "source": [
    "#Partition the smaller_df dataset into 60% training, and 20% validation, and 20% test.\n",
    "#Use 42 as the value for random state. \n",
    "\n",
    "#X = df5.drop(columns=['Domestic_Gr', 'Title', 'Genre', 'Rating', 'Distributor', 'Month_of_Release','Director', 'MainChar', 'star_power', 'CY_Qtr', 'top_genre', 'cumul_freq_direct_r','cumul_freq_actor_r', 'z_scores_budget', 'z_scores_target','z_scores_Runtime', 'z_scores_Years_Age'])\n",
    "\n",
    "#y = df5['Domestic_Gr']\n",
    "\n",
    "\n",
    "\n",
    "#X, X_test, y, y_test = train_test_split(X, y, test_size=.2,     random_state=42)\n",
    "\n",
    "#X_train, X_val, y_train, y_val = train_test_split(X, y, test_size=.25,   random_state=42)\n",
    "# Build the Model\n",
    "#model = LinearRegression()\n",
    "#lr = model.fit(X_train,y_train)\n",
    "\n",
    "#r_squared_train = lr.score(X_train, y_train)\n",
    "#r_squared_val = lr.score(X_val, y_val)\n",
    "\n",
    "#print(r_squared_train)\n",
    "#print(r_squared_val)"
   ]
  },
  {
   "cell_type": "code",
   "execution_count": null,
   "id": "931e6832",
   "metadata": {},
   "outputs": [],
   "source": [
    "#going to pickle COMPLETE FINAL MODEL BUILDING DATA\n",
    "df_final = df5.dropna(subset=['Budget'])\n",
    "\n",
    "#going to drop unnecessary variables\n",
    "df_final = df_final.drop(columns=['z_scores_budget', 'z_scores_target',\n",
    "                                     'z_scores_Runtime', 'MainChar', 'Director', 'Genre', 'Rating', 'Distributor',\n",
    "                                  'Month_of_Release', 'z_scores_Years_Age', 'CY_Qtr', 'top_genre', 'star_power'])\n",
    "df_final.to_pickle(\"df_final.pkl\")"
   ]
  },
  {
   "cell_type": "code",
   "execution_count": 2,
   "id": "04172ec5",
   "metadata": {},
   "outputs": [],
   "source": [
    "df_final = pd.read_pickle(\"df_final.pkl\")"
   ]
  },
  {
   "cell_type": "code",
   "execution_count": null,
   "id": "ff16ca84",
   "metadata": {},
   "outputs": [],
   "source": [
    "df_final.info()"
   ]
  },
  {
   "cell_type": "code",
   "execution_count": null,
   "id": "df273257",
   "metadata": {},
   "outputs": [],
   "source": [
    "#going to use CV because a small dataset\n",
    "#Perform 5-fold cross validation on the data.\n",
    "#Before doing so, leave 20% of the data as test.\n",
    "#performing the below code on df2, df3, df4, df5 to see\n",
    "#which dataset without outliers is best.\n",
    "\n",
    "X = df_final.drop(columns=['Domestic_Gr', 'Title', 'cumul_freq_direct_r','cumul_freq_actor_r'])\n",
    "\n",
    "y = df_final['Domestic_Gr']\n",
    "\n",
    "X_train, X_test, y_train, y_test = train_test_split(X, y, \n",
    "                                       test_size=.2,     \n",
    "                                       random_state=42)\n",
    "lm = LinearRegression() \n",
    "\n",
    "kf = KFold(n_splits=5, # number of folds\n",
    "     shuffle=True, # randomizes order of rows before split\n",
    "     random_state = 42) # using same number in future code/ rerunning allows us to replicate the split \n",
    "\n",
    "#to see all validation scores\n",
    "lm_cv = cross_val_score(lm, X_train, y_train, # estimator, features, target\n",
    "     cv= kf, # folds created above; could also just use a number \n",
    "     scoring='r2') # scoring metric\n",
    "print('Simple regression scores: ', lm_cv)\n",
    "\n",
    "# to print the mean score with standard deviation, rounded to 2 decimals\n",
    "print('Simple mean cv r^2: ', np.round(np.mean(lm_cv), 3), \"+-\", np.round(np.std(lm_cv),3))\n",
    "\n",
    "mean_r2 = np.mean(lm_cv)\n",
    "std_r2 = np.std(lm_cv)"
   ]
  },
  {
   "cell_type": "code",
   "execution_count": null,
   "id": "36e4ccbf",
   "metadata": {},
   "outputs": [],
   "source": [
    "#after running the above on df2-df5, df5 gave best average r^2. \n",
    "#this means, dropping 13 values with outliers in years since release, ie, age"
   ]
  },
  {
   "cell_type": "markdown",
   "id": "da902fea",
   "metadata": {},
   "source": [
    "## MISSING VALUE IMPUTATION in Budget\n",
    "- Mean imputation didn't improve model\n",
    "- Median imputation didn't improve model\n",
    "- Dropping Budget didn't improve model\n",
    "- Going to leave dataset with missing values dropped as this is best result"
   ]
  },
  {
   "cell_type": "code",
   "execution_count": null,
   "id": "93b8b4a7",
   "metadata": {},
   "outputs": [],
   "source": [
    "#df5.info()\n",
    "#now need to handle the missing values in budget for this 996..."
   ]
  },
  {
   "cell_type": "code",
   "execution_count": null,
   "id": "daf5d0bf",
   "metadata": {},
   "outputs": [],
   "source": [
    "#basic mean and median imputation for Budget at first pass\n",
    "#df5_mean_impute = df5\n",
    "#df5_mean_impute['Budget'] = df5_mean_impute['Budget'].fillna(df5_mean_impute['Budget'].mean())\n",
    "\n",
    "#df5_median_impute = df5\n",
    "#df5_median_impute['Budget'] = df5_median_impute['Budget'].fillna(df5_median_impute['Budget'].median())\n",
    "\n",
    "#df5_median_impute.info()\n"
   ]
  },
  {
   "cell_type": "code",
   "execution_count": null,
   "id": "01d8d46a",
   "metadata": {},
   "outputs": [],
   "source": [
    "#X = df5_median_impute.drop(columns=['Domestic_Gr', 'Title', 'Genre', 'Rating', 'Distributor', 'Month_of_Release','Director', 'MainChar', 'star_power', 'CY_Qtr', 'top_genre', 'cumul_freq_direct_r','cumul_freq_actor_r', 'z_scores_budget', 'z_scores_target','z_scores_Runtime', 'z_scores_Years_Age'])\n",
    "\n",
    "#y = df5_median_impute['Domestic_Gr']\n",
    "\n",
    "#X_train, X_test, y_train, y_test = train_test_split(X, y, \n",
    "                                      # test_size=.2,     \n",
    "                                       #random_state=42)\n",
    "#lm = LinearRegression() \n",
    "\n",
    "#kf = KFold(n_splits=5, # number of folds\n",
    "     #shuffle=True, # randomizes order of rows before split\n",
    "     #random_state = 42) # using same number in future code/ rerunning allows us to replicate the split \n",
    "\n",
    "#to see all validation scores\n",
    "#lm_cv = cross_val_score(lm, X_train, y_train, # estimator, features, target\n",
    "     #cv= kf, # folds created above; could also just use a number \n",
    "     #scoring='r2') # scoring metric\n",
    "#print('Simple regression scores: ', lm_cv)\n",
    "\n",
    "# to print the mean score with standard deviation, rounded to 2 decimals\n",
    "#print('Simple mean cv r^2: ', np.round(np.mean(lm_cv), 3), \"+-\", np.round(np.std(lm_cv),3))\n",
    "\n",
    "#mean_r2 = np.mean(lm_cv)\n",
    "#std_r2 = np.std(lm_cv)"
   ]
  },
  {
   "cell_type": "markdown",
   "id": "3a7d8f28",
   "metadata": {},
   "source": [
    "# 3. Adding 'star power' to model\n",
    "* Importing OSCAR data to see if it improves model\n",
    "* Adding two variables, cumulative freq of OSCAR wins+noms for the main character up until the year of movie release and same for Director"
   ]
  },
  {
   "cell_type": "code",
   "execution_count": null,
   "id": "4715bd4d",
   "metadata": {},
   "outputs": [],
   "source": [
    "X = df_final.drop(columns=['Domestic_Gr', 'Title'])\n",
    "\n",
    "y = df_final['Domestic_Gr']\n",
    "\n",
    "X_train, X_test, y_train, y_test = train_test_split(X, y, \n",
    "                                       test_size=.2,     \n",
    "                                       random_state=42)"
   ]
  },
  {
   "cell_type": "code",
   "execution_count": null,
   "id": "3685ac60",
   "metadata": {},
   "outputs": [],
   "source": [
    "\n",
    "lm = LinearRegression() \n",
    "\n",
    "kf = KFold(n_splits=5, # number of folds\n",
    "     shuffle=True, # randomizes order of rows before split\n",
    "     random_state = 42) # using same number in future code/ rerunning allows us to replicate the split \n",
    "\n",
    "\n",
    "lm_cv = cross_val_score(lm, X_train, y_train, # estimator, features, target\n",
    "     cv= kf,\n",
    "     scoring='r2') \n",
    "print('Simple regression scores: ', lm_cv)\n",
    "\n",
    "print('Simple mean cv r^2: ', np.round(np.mean(lm_cv), 3), \"+-\", np.round(np.std(lm_cv),3))\n",
    "\n",
    "\n",
    "mean_r2 = np.mean(lm_cv)\n",
    "std_r2 = np.std(lm_cv)\n",
    "# Build the Model\n",
    "lm.fit(X_train, y_train)"
   ]
  },
  {
   "cell_type": "code",
   "execution_count": null,
   "id": "ecdd1330",
   "metadata": {},
   "outputs": [],
   "source": [
    "# Fitted vs. Actual\n",
    "y_train_pred = lm.predict(X_train)\n",
    "\n",
    "plt.scatter(y_train, y_train_pred, alpha=0.2)\n",
    "plt.plot([0, 400], [0, 400])"
   ]
  },
  {
   "cell_type": "code",
   "execution_count": null,
   "id": "d0c7c34a",
   "metadata": {},
   "outputs": [],
   "source": [
    "# Plot Residuals vs. predicted\n",
    "\n",
    "lin_reg_residuals = y_train - y_train_pred\n",
    "\n",
    "plt.scatter(y_train_pred, lin_reg_residuals)\n",
    "plt.plot([0,400], [0, 0])\n",
    "plt.title(\"Residuals vs. Predictions\")"
   ]
  },
  {
   "cell_type": "code",
   "execution_count": null,
   "id": "4504c946",
   "metadata": {},
   "outputs": [],
   "source": [
    "x = df_final.drop(columns=['Domestic_Gr', 'Title'])\n",
    "x = sm.add_constant(x)\n",
    "y = df_final['Domestic_Gr']\n",
    "\n",
    "model = sm.OLS(y,x, data = df_final)\n",
    "fit = model.fit()\n",
    "#fit.summary()\n",
    "\n",
    "import matplotlib.pyplot as plt\n",
    "predict=fit.predict(x)\n",
    "resid=y-predict\n",
    "#diagnose/inspect residual normality using qqplot:\n",
    "stats.probplot(resid, dist=\"norm\", plot=plt)\n",
    "plt.title(\"Normal Q-Q plot\")\n",
    "plt.show()\n",
    "\n",
    "#Plot Residuals vs. predicted\n",
    "plt.figure(figsize=(12,8))\n",
    "plt.scatter(fit.predict(), fit.resid);\n"
   ]
  },
  {
   "cell_type": "markdown",
   "id": "3fba0478",
   "metadata": {},
   "source": [
    "# 4. Applying a log transformation to target variable\n",
    "\n",
    "Predictors (numeric): Budget, Runtime_tot_mins, Years_since_release\n",
    "\n",
    "Predictors (categorical): Rating, CY Quarter, Genre, Distributor, OSCARS Actor/Actress, OSCARS Director\n",
    "\n",
    "Response: Domestic_Gr w/ log transofmration\n"
   ]
  },
  {
   "cell_type": "code",
   "execution_count": null,
   "id": "bcb2084b",
   "metadata": {},
   "outputs": [],
   "source": [
    "df_final.Domestic_Gr.hist();"
   ]
  },
  {
   "cell_type": "code",
   "execution_count": null,
   "id": "fccc1cd8",
   "metadata": {},
   "outputs": [],
   "source": [
    "# taking log of domestic gross and graphing\n",
    "\n",
    "df_final['log_Domestic_Gr']=np.log(df_final.Domestic_Gr)\n",
    "# looks better, more normal\n",
    "df_final.log_Domestic_Gr.hist();"
   ]
  },
  {
   "cell_type": "code",
   "execution_count": null,
   "id": "f51610eb",
   "metadata": {},
   "outputs": [],
   "source": [
    "df_final.info()"
   ]
  },
  {
   "cell_type": "code",
   "execution_count": null,
   "id": "6fc6d1ed",
   "metadata": {},
   "outputs": [],
   "source": [
    "#refitting model\n",
    "X = df_final.drop(columns=['Domestic_Gr', 'Title'])\n",
    "\n",
    "y = df_final['log_Domestic_Gr']\n",
    "\n",
    "X_train, X_test, y_train, y_test = train_test_split(X, y, \n",
    "                                       test_size=.2,     \n",
    "                                       random_state=42)"
   ]
  },
  {
   "cell_type": "code",
   "execution_count": null,
   "id": "98e4fa14",
   "metadata": {},
   "outputs": [],
   "source": [
    "lm = LinearRegression() \n",
    "\n",
    "kf = KFold(n_splits=5, # number of folds\n",
    "     shuffle=True, # randomizes order of rows before split\n",
    "     random_state = 42) # using same number in future code/ rerunning allows us to replicate the split \n",
    "\n",
    "\n",
    "\n",
    "lm_cv = cross_val_score(lm, X_train, y_train, # estimator, features, target\n",
    "     cv= kf,\n",
    "     scoring='r2') \n",
    "print('Simple regression scores: ', lm_cv)\n",
    "\n",
    "print('Simple mean cv r^2: ', np.round(np.mean(lm_cv), 3), \"+-\", np.round(np.std(lm_cv),3))\n",
    "\n",
    "mean_r2 = np.mean(lm_cv)\n",
    "std_r2 = np.std(lm_cv)\n",
    "\n",
    "# Build the Model\n",
    "lm.fit(X_train, y_train)"
   ]
  },
  {
   "cell_type": "code",
   "execution_count": null,
   "id": "730992c7",
   "metadata": {},
   "outputs": [],
   "source": [
    "x = df_final.drop(columns=['Domestic_Gr', 'Title'])\n",
    "\n",
    "x = sm.add_constant(x)\n",
    "y = df_final['log_Domestic_Gr']\n",
    "\n",
    "model = sm.OLS(y,x, data = df_final)\n",
    "fit = model.fit()\n",
    "#fit.summary()\n",
    "\n",
    "#from scipy import stats\n",
    "import matplotlib.pyplot as plt\n",
    "predict=fit.predict(x)\n",
    "resid=y-predict\n",
    "# diagnose/inspect residual normality using qqplot:\n",
    "stats.probplot(resid, dist=\"norm\", plot=plt)\n",
    "plt.title(\"Normal Q-Q plot\")\n",
    "plt.show()\n",
    "\n"
   ]
  },
  {
   "cell_type": "code",
   "execution_count": null,
   "id": "c316ac15",
   "metadata": {},
   "outputs": [],
   "source": [
    "#Plot Residuals vs. predicted\n",
    "plt.figure(figsize=(12,8))\n",
    "plt.scatter(fit.predict(), fit.resid);"
   ]
  },
  {
   "cell_type": "code",
   "execution_count": null,
   "id": "fd3cda74",
   "metadata": {},
   "outputs": [],
   "source": [
    "#improve model a bit better now, barely though\n",
    "# .265 vs .263 - barely an improvement. not going to keep the transformation."
   ]
  },
  {
   "cell_type": "markdown",
   "id": "91472848",
   "metadata": {},
   "source": [
    "# 5. Feature Selection (VIF, pvalues)\n",
    "\n",
    "Predictors (numeric): Budget, Runtime_tot_mins, Years_since_release\n",
    "\n",
    "Predictors (categorical): Rating, CY Quarter, Genre, Distributor, OSCARS Actor/Actress, OSCARS Director\n",
    "\n",
    "Response: Domestic_Gr\n"
   ]
  },
  {
   "cell_type": "code",
   "execution_count": null,
   "id": "d3646b09",
   "metadata": {},
   "outputs": [],
   "source": [
    "#dropping log value now\n",
    "#df_final.drop('log_Domestic_Gr', inplace=True, axis=1)"
   ]
  },
  {
   "cell_type": "code",
   "execution_count": null,
   "id": "9c79c458",
   "metadata": {},
   "outputs": [],
   "source": [
    "df_final.info()"
   ]
  },
  {
   "cell_type": "code",
   "execution_count": null,
   "id": "5b208583",
   "metadata": {},
   "outputs": [],
   "source": [
    "#refitting model\n",
    "X = df_final.drop(columns=['Domestic_Gr', 'Title'])\n",
    "\n",
    "y = df_final['Domestic_Gr']\n",
    "\n",
    "X_train, X_test, y_train, y_test = train_test_split(X, y, \n",
    "                                       test_size=.2,     \n",
    "                                       random_state=42)"
   ]
  },
  {
   "cell_type": "code",
   "execution_count": null,
   "id": "4cc41184",
   "metadata": {},
   "outputs": [],
   "source": [
    "#x = df_final.drop(columns=['Domestic_Gr', 'Title'])\n",
    "\n",
    "x = sm.add_constant(X)\n",
    "#y = df_final['Domestic_Gr']\n",
    "\n",
    "model = sm.OLS(y,x, data = df_final)\n",
    "fit = model.fit()\n",
    "fit.summary()"
   ]
  },
  {
   "cell_type": "code",
   "execution_count": null,
   "id": "d1f50d71",
   "metadata": {},
   "outputs": [],
   "source": [
    "# create a dataframe\n",
    "# keep only numeric variables\n",
    "numerics = ['int16', 'int32', 'int64', 'float16', 'float32', 'float64']\n",
    "final = df_final.select_dtypes(include=numerics)\n",
    "x = final.drop(columns=['Domestic_Gr'])\n",
    "x = sm.add_constant(x)\n",
    "y = final['Domestic_Gr']"
   ]
  },
  {
   "cell_type": "code",
   "execution_count": null,
   "id": "6a645a95",
   "metadata": {},
   "outputs": [],
   "source": [
    "concerning_vif_count = 4\n",
    "\n",
    "from statsmodels.stats.outliers_influence import variance_inflation_factor\n",
    "\n",
    "model = sm.OLS(y, x, data=X_train)\n",
    "fit = model.fit()\n",
    "\n",
    "vif = pd.DataFrame()\n",
    "vif['variables'] = x.columns\n",
    "vif['vif'] =[variance_inflation_factor(x.values, i) for i in range(x.shape[1])]\n",
    "vif\n",
    "\n",
    "#no values >5, so no multicollinearity"
   ]
  },
  {
   "cell_type": "code",
   "execution_count": null,
   "id": "a85b3a5c",
   "metadata": {},
   "outputs": [],
   "source": [
    "final.corr()"
   ]
  },
  {
   "cell_type": "code",
   "execution_count": null,
   "id": "22d834e5",
   "metadata": {},
   "outputs": [],
   "source": [
    "#suspecting that some variables are definitely not adding to the model...let's apply regularization!"
   ]
  },
  {
   "cell_type": "markdown",
   "id": "abedb6b4",
   "metadata": {},
   "source": [
    "# 5. Regularization! LASSO\n",
    "\n",
    "Predictors (numeric): Budget, Runtime_tot_mins, Years_since_release\n",
    "\n",
    "Predictors (categorical): Rating, CY Quarter, Genre, Distributor, OSCARS Actor/Actress, OSCARS Director\n",
    "\n",
    "Response: Domestic_Gr"
   ]
  },
  {
   "cell_type": "code",
   "execution_count": null,
   "id": "a8569438",
   "metadata": {},
   "outputs": [],
   "source": [
    "# run standard scaler before CV. do pre-processing before CV \n",
    "\n",
    "#train/test split\n",
    "X = df_final.drop(columns=['Domestic_Gr', 'Title'])\n",
    "\n",
    "y = df_final['Domestic_Gr']\n",
    "\n",
    "X_train, X_test, y_train, y_test = train_test_split(X, y, \n",
    "                                       test_size=.2,     \n",
    "                                       random_state=42)"
   ]
  },
  {
   "cell_type": "code",
   "execution_count": null,
   "id": "da96d53c",
   "metadata": {},
   "outputs": [],
   "source": [
    "from sklearn.preprocessing import StandardScaler\n",
    "\n",
    "#standard scaler fit to X_train\n",
    "std = StandardScaler()\n",
    "std.fit(X_train.values)\n",
    "\n",
    "## apply the scaler to the train set\n",
    "X_tr = std.transform(X_train.values)\n",
    "## Apply the scaler to the test set\n",
    "X_te = std.transform(X_test.values)"
   ]
  },
  {
   "cell_type": "code",
   "execution_count": null,
   "id": "a7e8bd4a",
   "metadata": {},
   "outputs": [],
   "source": [
    "#then run kfold CV\n",
    "#run different alphas, via grid search\n",
    "alphavec = 10**np.linspace(-2,2,20000)\n",
    "\n",
    "lasso = LassoCV(alphas = alphavec, cv=5) #alpha should be same same magnitude\n",
    "#as target variable\n",
    "\n",
    "#kf = KFold(n_splits=5, # number of folds\n",
    "     #shuffle=True, # randomizes order of rows before split\n",
    "     #random_state = 42) # using same number in future code/ rerunning allows us to replicate the split \n",
    "\n",
    "#lasso_cv = cross_val_score(lasso, X_train, y_train, # estimator, features, target\n",
    "     #cv= kf,\n",
    "     #scoring='r2') "
   ]
  },
  {
   "cell_type": "code",
   "execution_count": null,
   "id": "f30a094d",
   "metadata": {},
   "outputs": [],
   "source": [
    "lasso.fit(X_tr, y_train)"
   ]
  },
  {
   "cell_type": "code",
   "execution_count": null,
   "id": "92367523",
   "metadata": {},
   "outputs": [],
   "source": [
    "# This is the best alpha value it found - not far from the value\n",
    "# selected using simple validation\n",
    "lasso.alpha_"
   ]
  },
  {
   "cell_type": "code",
   "execution_count": null,
   "id": "059c655c",
   "metadata": {},
   "outputs": [],
   "source": [
    "# These are the (standardized) coefficients found\n",
    "# when it refit using that best alpha\n",
    "list(zip(X_train.columns, lasso.coef_))"
   ]
  },
  {
   "cell_type": "code",
   "execution_count": null,
   "id": "7f42cc84",
   "metadata": {},
   "outputs": [],
   "source": [
    "# Make predictions on the test set using the new model\n",
    "test_set_pred = lasso.predict(X_te)"
   ]
  },
  {
   "cell_type": "code",
   "execution_count": null,
   "id": "038c87da",
   "metadata": {},
   "outputs": [],
   "source": [
    "# Find the MAE and R^2 on the test set using this model\n",
    "from sklearn.metrics import r2_score\n",
    "r2_score(y_test, test_set_pred)"
   ]
  },
  {
   "cell_type": "code",
   "execution_count": null,
   "id": "7f1fd428",
   "metadata": {},
   "outputs": [],
   "source": [
    "train_r_squared = lasso.score(X_tr, y_train)\n",
    "train_r_squared"
   ]
  },
  {
   "cell_type": "code",
   "execution_count": null,
   "id": "939e0ce0",
   "metadata": {},
   "outputs": [],
   "source": [
    "#test_r_squared = lasso.score(X_te, y_test)\n",
    "#print(test_r_squared)\n",
    "print(list(zip(X_train.columns, lasso.coef_)))"
   ]
  },
  {
   "cell_type": "code",
   "execution_count": null,
   "id": "0e0ee448",
   "metadata": {},
   "outputs": [],
   "source": [
    "### BEGIN SOLUTION\n",
    "from sklearn.linear_model import lars_path\n",
    "import matplotlib.pyplot as plt\n",
    "\n",
    "alphas = 10**np.linspace(-2,2,200)\n",
    "\n",
    "print(\"Computing regularization path using the LARS ...\")\n",
    "alphas, _, coefs = lars_path(X_tr, y_train.values, method='lasso')\n",
    "\n",
    "# plotting the LARS path\n",
    "\n",
    "xx = np.sum(np.abs(coefs.T), axis=1)\n",
    "xx /= xx[-1]\n",
    "\n",
    "plt.figure(figsize=(10,10))\n",
    "plt.plot(xx, coefs.T)\n",
    "ymin, ymax = plt.ylim()\n",
    "plt.vlines(xx, ymin, ymax, linestyle='dashed')\n",
    "plt.xlabel('|coef| / max|coef|')\n",
    "plt.ylabel('Coefficients')\n",
    "plt.title('LASSO Path')\n",
    "plt.axis('tight')\n",
    "plt.legend(X_train.columns)\n",
    "plt.show()"
   ]
  },
  {
   "cell_type": "code",
   "execution_count": null,
   "id": "3a46807b",
   "metadata": {},
   "outputs": [],
   "source": [
    "from sklearn.preprocessing import StandardScaler\n",
    "## .fit finds the mean and standard deviation of each variable in the training set\n",
    "\n",
    "#variables_dropped_count = 5"
   ]
  },
  {
   "cell_type": "code",
   "execution_count": null,
   "id": "1d538a42",
   "metadata": {},
   "outputs": [],
   "source": [
    "from sklearn.pipeline import Pipeline\n",
    "from sklearn.preprocessing import StandardScaler\n",
    "import numpy as np\n",
    "alphas = 10**np.linspace(-2,2,200)\n",
    "lasso_model = LassoCV(alphas = alphas, cv=5)\n",
    "lasso_model.fit(X_tr, y_train)\n",
    "r_squared_train = lasso_model.score(X_tr, y_train)\n",
    "#r_squared_test = lasso_model.score(X_te, y_test)\n",
    "alpha = lasso_model.alpha_\n",
    "\n",
    "print(r_squared_train)\n",
    "# print(r_squared_test)\n",
    "print(alpha)\n",
    "print(list(zip(X_train.columns, lasso_model.coef_)))\n"
   ]
  },
  {
   "cell_type": "code",
   "execution_count": null,
   "id": "f48a1672",
   "metadata": {},
   "outputs": [],
   "source": [
    "#meeting from john TA\n",
    "#try lasso grid search\n",
    "#double check multicollinearity though before fitting LASSO\n",
    "#then check out the LARS gratph, the thing he sent in DM\n",
    "#then if LASSO is no good, do pvalue feature selection and see how removing certain variables impacts the model"
   ]
  },
  {
   "cell_type": "markdown",
   "id": "677a3a99",
   "metadata": {},
   "source": [
    "## Final model"
   ]
  },
  {
   "cell_type": "code",
   "execution_count": 3,
   "id": "403872e3",
   "metadata": {},
   "outputs": [
    {
     "name": "stdout",
     "output_type": "stream",
     "text": [
      "<class 'pandas.core.frame.DataFrame'>\n",
      "Int64Index: 808 entries, 0 to 1008\n",
      "Data columns (total 29 columns):\n",
      " #   Column                               Non-Null Count  Dtype  \n",
      "---  ------                               --------------  -----  \n",
      " 0   Title                                808 non-null    object \n",
      " 1   Domestic_Gr                          808 non-null    float64\n",
      " 2   Budget                               808 non-null    float64\n",
      " 3   Runtime_tot_mins                     808 non-null    float64\n",
      " 4   Years_Since_Release                  808 non-null    int64  \n",
      " 5   cumul_freq_direct_r                  808 non-null    float64\n",
      " 6   cumul_freq_actor_r                   808 non-null    float64\n",
      " 7   Q2                                   808 non-null    uint8  \n",
      " 8   Q3                                   808 non-null    uint8  \n",
      " 9   Q4                                   808 non-null    uint8  \n",
      " 10  PG                                   808 non-null    uint8  \n",
      " 11  PG-13                                808 non-null    uint8  \n",
      " 12  R                                    808 non-null    uint8  \n",
      " 13  Adventure                            808 non-null    uint8  \n",
      " 14  Animation                            808 non-null    uint8  \n",
      " 15  Biography                            808 non-null    uint8  \n",
      " 16  Comedy                               808 non-null    uint8  \n",
      " 17  Crime                                808 non-null    uint8  \n",
      " 18  Documentary                          808 non-null    uint8  \n",
      " 19  Drama                                808 non-null    uint8  \n",
      " 20  Fantasy                              808 non-null    uint8  \n",
      " 21  Horror                               808 non-null    uint8  \n",
      " 22  Mystery                              808 non-null    uint8  \n",
      " 23  Paramount Pictures                   808 non-null    uint8  \n",
      " 24  Sony Pictures Entertainment (SPE)    808 non-null    uint8  \n",
      " 25  Twentieth Century Fox                808 non-null    uint8  \n",
      " 26  Universal Pictures                   808 non-null    uint8  \n",
      " 27  Walt Disney Studios Motion Pictures  808 non-null    uint8  \n",
      " 28  Warner Bros.                         808 non-null    uint8  \n",
      "dtypes: float64(5), int64(1), object(1), uint8(22)\n",
      "memory usage: 67.9+ KB\n"
     ]
    }
   ],
   "source": [
    "df_final.info()"
   ]
  },
  {
   "cell_type": "code",
   "execution_count": 4,
   "id": "d3328a56",
   "metadata": {},
   "outputs": [
    {
     "name": "stdout",
     "output_type": "stream",
     "text": [
      "<class 'pandas.core.frame.DataFrame'>\n",
      "Int64Index: 808 entries, 0 to 1008\n",
      "Data columns (total 27 columns):\n",
      " #   Column                               Non-Null Count  Dtype  \n",
      "---  ------                               --------------  -----  \n",
      " 0   Domestic_Gr                          808 non-null    float64\n",
      " 1   Budget                               808 non-null    float64\n",
      " 2   Runtime_tot_mins                     808 non-null    float64\n",
      " 3   cumul_freq_direct_r                  808 non-null    float64\n",
      " 4   cumul_freq_actor_r                   808 non-null    float64\n",
      " 5   Q2                                   808 non-null    uint8  \n",
      " 6   Q3                                   808 non-null    uint8  \n",
      " 7   Q4                                   808 non-null    uint8  \n",
      " 8   PG                                   808 non-null    uint8  \n",
      " 9   PG-13                                808 non-null    uint8  \n",
      " 10  R                                    808 non-null    uint8  \n",
      " 11  Adventure                            808 non-null    uint8  \n",
      " 12  Animation                            808 non-null    uint8  \n",
      " 13  Biography                            808 non-null    uint8  \n",
      " 14  Comedy                               808 non-null    uint8  \n",
      " 15  Crime                                808 non-null    uint8  \n",
      " 16  Documentary                          808 non-null    uint8  \n",
      " 17  Drama                                808 non-null    uint8  \n",
      " 18  Fantasy                              808 non-null    uint8  \n",
      " 19  Horror                               808 non-null    uint8  \n",
      " 20  Mystery                              808 non-null    uint8  \n",
      " 21  Paramount Pictures                   808 non-null    uint8  \n",
      " 22  Sony Pictures Entertainment (SPE)    808 non-null    uint8  \n",
      " 23  Twentieth Century Fox                808 non-null    uint8  \n",
      " 24  Universal Pictures                   808 non-null    uint8  \n",
      " 25  Walt Disney Studios Motion Pictures  808 non-null    uint8  \n",
      " 26  Warner Bros.                         808 non-null    uint8  \n",
      "dtypes: float64(5), uint8(22)\n",
      "memory usage: 55.2 KB\n"
     ]
    }
   ],
   "source": [
    "final = df_final.drop(columns=['Title', 'Years_Since_Release'])\n",
    "final.info()"
   ]
  },
  {
   "cell_type": "code",
   "execution_count": 7,
   "id": "8af026f6",
   "metadata": {},
   "outputs": [
    {
     "name": "stderr",
     "output_type": "stream",
     "text": [
      "/Users/nicole/opt/anaconda3/lib/python3.9/site-packages/statsmodels/tsa/tsatools.py:142: FutureWarning: In a future version of pandas all arguments of concat except for the argument 'objs' will be keyword-only\n",
      "  x = pd.concat(x[::order], 1)\n"
     ]
    },
    {
     "data": {
      "text/html": [
       "<table class=\"simpletable\">\n",
       "<caption>OLS Regression Results</caption>\n",
       "<tr>\n",
       "  <th>Dep. Variable:</th>       <td>Domestic_Gr</td>   <th>  R-squared:         </th> <td>   0.304</td> \n",
       "</tr>\n",
       "<tr>\n",
       "  <th>Model:</th>                   <td>OLS</td>       <th>  Adj. R-squared:    </th> <td>   0.281</td> \n",
       "</tr>\n",
       "<tr>\n",
       "  <th>Method:</th>             <td>Least Squares</td>  <th>  F-statistic:       </th> <td>   13.15</td> \n",
       "</tr>\n",
       "<tr>\n",
       "  <th>Date:</th>             <td>Wed, 13 Jul 2022</td> <th>  Prob (F-statistic):</th> <td>5.88e-46</td> \n",
       "</tr>\n",
       "<tr>\n",
       "  <th>Time:</th>                 <td>11:29:47</td>     <th>  Log-Likelihood:    </th> <td> -15893.</td> \n",
       "</tr>\n",
       "<tr>\n",
       "  <th>No. Observations:</th>      <td>   808</td>      <th>  AIC:               </th> <td>3.184e+04</td>\n",
       "</tr>\n",
       "<tr>\n",
       "  <th>Df Residuals:</th>          <td>   781</td>      <th>  BIC:               </th> <td>3.197e+04</td>\n",
       "</tr>\n",
       "<tr>\n",
       "  <th>Df Model:</th>              <td>    26</td>      <th>                     </th>     <td> </td>    \n",
       "</tr>\n",
       "<tr>\n",
       "  <th>Covariance Type:</th>      <td>nonrobust</td>    <th>                     </th>     <td> </td>    \n",
       "</tr>\n",
       "</table>\n",
       "<table class=\"simpletable\">\n",
       "<tr>\n",
       "                   <td></td>                      <th>coef</th>     <th>std err</th>      <th>t</th>      <th>P>|t|</th>  <th>[0.025</th>    <th>0.975]</th>  \n",
       "</tr>\n",
       "<tr>\n",
       "  <th>const</th>                               <td>-1.471e+07</td> <td> 2.69e+07</td> <td>   -0.546</td> <td> 0.585</td> <td>-6.76e+07</td> <td> 3.81e+07</td>\n",
       "</tr>\n",
       "<tr>\n",
       "  <th>Budget</th>                              <td>    0.5703</td> <td>    0.069</td> <td>    8.317</td> <td> 0.000</td> <td>    0.436</td> <td>    0.705</td>\n",
       "</tr>\n",
       "<tr>\n",
       "  <th>Runtime_tot_mins</th>                    <td> 1.016e+06</td> <td> 1.82e+05</td> <td>    5.594</td> <td> 0.000</td> <td>  6.6e+05</td> <td> 1.37e+06</td>\n",
       "</tr>\n",
       "<tr>\n",
       "  <th>cumul_freq_direct_r</th>                 <td> 6.002e+06</td> <td> 4.35e+06</td> <td>    1.380</td> <td> 0.168</td> <td>-2.54e+06</td> <td> 1.45e+07</td>\n",
       "</tr>\n",
       "<tr>\n",
       "  <th>cumul_freq_actor_r</th>                  <td>-5.776e+05</td> <td> 2.17e+06</td> <td>   -0.267</td> <td> 0.790</td> <td>-4.83e+06</td> <td> 3.68e+06</td>\n",
       "</tr>\n",
       "<tr>\n",
       "  <th>Q2</th>                                  <td>   2.2e+07</td> <td> 9.77e+06</td> <td>    2.251</td> <td> 0.025</td> <td> 2.82e+06</td> <td> 4.12e+07</td>\n",
       "</tr>\n",
       "<tr>\n",
       "  <th>Q3</th>                                  <td>-2.608e+06</td> <td> 1.02e+07</td> <td>   -0.255</td> <td> 0.799</td> <td>-2.27e+07</td> <td> 1.74e+07</td>\n",
       "</tr>\n",
       "<tr>\n",
       "  <th>Q4</th>                                  <td> 3.588e+06</td> <td> 9.95e+06</td> <td>    0.361</td> <td> 0.718</td> <td>-1.59e+07</td> <td> 2.31e+07</td>\n",
       "</tr>\n",
       "<tr>\n",
       "  <th>PG</th>                                  <td> 1.369e+07</td> <td>  1.7e+07</td> <td>    0.806</td> <td> 0.420</td> <td>-1.96e+07</td> <td>  4.7e+07</td>\n",
       "</tr>\n",
       "<tr>\n",
       "  <th>PG-13</th>                               <td> 1.258e+07</td> <td> 1.88e+07</td> <td>    0.670</td> <td> 0.503</td> <td>-2.43e+07</td> <td> 4.94e+07</td>\n",
       "</tr>\n",
       "<tr>\n",
       "  <th>R</th>                                   <td>-9.426e+06</td> <td> 1.97e+07</td> <td>   -0.479</td> <td> 0.632</td> <td> -4.8e+07</td> <td> 2.92e+07</td>\n",
       "</tr>\n",
       "<tr>\n",
       "  <th>Adventure</th>                           <td> 1.533e+07</td> <td> 1.07e+07</td> <td>    1.428</td> <td> 0.154</td> <td>-5.74e+06</td> <td> 3.64e+07</td>\n",
       "</tr>\n",
       "<tr>\n",
       "  <th>Animation</th>                           <td> 2.823e+07</td> <td> 3.98e+07</td> <td>    0.708</td> <td> 0.479</td> <td>   -5e+07</td> <td> 1.06e+08</td>\n",
       "</tr>\n",
       "<tr>\n",
       "  <th>Biography</th>                           <td>-2.564e+07</td> <td> 1.76e+07</td> <td>   -1.456</td> <td> 0.146</td> <td>-6.02e+07</td> <td> 8.92e+06</td>\n",
       "</tr>\n",
       "<tr>\n",
       "  <th>Comedy</th>                              <td> 5.722e+05</td> <td> 9.79e+06</td> <td>    0.058</td> <td> 0.953</td> <td>-1.86e+07</td> <td> 1.98e+07</td>\n",
       "</tr>\n",
       "<tr>\n",
       "  <th>Crime</th>                               <td>-1.321e+07</td> <td> 1.86e+07</td> <td>   -0.709</td> <td> 0.479</td> <td>-4.98e+07</td> <td> 2.34e+07</td>\n",
       "</tr>\n",
       "<tr>\n",
       "  <th>Documentary</th>                         <td>-6.066e+06</td> <td> 8.68e+07</td> <td>   -0.070</td> <td> 0.944</td> <td>-1.76e+08</td> <td> 1.64e+08</td>\n",
       "</tr>\n",
       "<tr>\n",
       "  <th>Drama</th>                               <td> 3.619e+05</td> <td> 1.35e+07</td> <td>    0.027</td> <td> 0.979</td> <td>-2.61e+07</td> <td> 2.68e+07</td>\n",
       "</tr>\n",
       "<tr>\n",
       "  <th>Fantasy</th>                             <td>-3.891e+07</td> <td> 5.05e+07</td> <td>   -0.771</td> <td> 0.441</td> <td>-1.38e+08</td> <td> 6.02e+07</td>\n",
       "</tr>\n",
       "<tr>\n",
       "  <th>Horror</th>                              <td> 3.307e+07</td> <td> 1.97e+07</td> <td>    1.680</td> <td> 0.093</td> <td>-5.56e+06</td> <td> 7.17e+07</td>\n",
       "</tr>\n",
       "<tr>\n",
       "  <th>Mystery</th>                             <td>-8.961e+06</td> <td> 6.14e+07</td> <td>   -0.146</td> <td> 0.884</td> <td> -1.3e+08</td> <td> 1.12e+08</td>\n",
       "</tr>\n",
       "<tr>\n",
       "  <th>Paramount Pictures</th>                  <td>-2.275e+07</td> <td> 1.18e+07</td> <td>   -1.925</td> <td> 0.055</td> <td>-4.59e+07</td> <td> 4.44e+05</td>\n",
       "</tr>\n",
       "<tr>\n",
       "  <th>Sony Pictures Entertainment (SPE)</th>   <td>-1.807e+07</td> <td> 1.15e+07</td> <td>   -1.569</td> <td> 0.117</td> <td>-4.07e+07</td> <td> 4.53e+06</td>\n",
       "</tr>\n",
       "<tr>\n",
       "  <th>Twentieth Century Fox</th>               <td>-7.559e+06</td> <td>  1.1e+07</td> <td>   -0.686</td> <td> 0.493</td> <td>-2.92e+07</td> <td> 1.41e+07</td>\n",
       "</tr>\n",
       "<tr>\n",
       "  <th>Universal Pictures</th>                  <td> 4.989e+05</td> <td> 1.08e+07</td> <td>    0.046</td> <td> 0.963</td> <td>-2.06e+07</td> <td> 2.16e+07</td>\n",
       "</tr>\n",
       "<tr>\n",
       "  <th>Walt Disney Studios Motion Pictures</th> <td> 3.005e+07</td> <td>  1.2e+07</td> <td>    2.505</td> <td> 0.012</td> <td>  6.5e+06</td> <td> 5.36e+07</td>\n",
       "</tr>\n",
       "<tr>\n",
       "  <th>Warner Bros.</th>                        <td>-1.567e+07</td> <td> 1.05e+07</td> <td>   -1.495</td> <td> 0.135</td> <td>-3.62e+07</td> <td>  4.9e+06</td>\n",
       "</tr>\n",
       "</table>\n",
       "<table class=\"simpletable\">\n",
       "<tr>\n",
       "  <th>Omnibus:</th>       <td>338.000</td> <th>  Durbin-Watson:     </th> <td>   0.588</td>\n",
       "</tr>\n",
       "<tr>\n",
       "  <th>Prob(Omnibus):</th> <td> 0.000</td>  <th>  Jarque-Bera (JB):  </th> <td>2041.441</td>\n",
       "</tr>\n",
       "<tr>\n",
       "  <th>Skew:</th>          <td> 1.796</td>  <th>  Prob(JB):          </th> <td>    0.00</td>\n",
       "</tr>\n",
       "<tr>\n",
       "  <th>Kurtosis:</th>      <td> 9.909</td>  <th>  Cond. No.          </th> <td>3.10e+09</td>\n",
       "</tr>\n",
       "</table><br/><br/>Notes:<br/>[1] Standard Errors assume that the covariance matrix of the errors is correctly specified.<br/>[2] The condition number is large, 3.1e+09. This might indicate that there are<br/>strong multicollinearity or other numerical problems."
      ],
      "text/plain": [
       "<class 'statsmodels.iolib.summary.Summary'>\n",
       "\"\"\"\n",
       "                            OLS Regression Results                            \n",
       "==============================================================================\n",
       "Dep. Variable:            Domestic_Gr   R-squared:                       0.304\n",
       "Model:                            OLS   Adj. R-squared:                  0.281\n",
       "Method:                 Least Squares   F-statistic:                     13.15\n",
       "Date:                Wed, 13 Jul 2022   Prob (F-statistic):           5.88e-46\n",
       "Time:                        11:29:47   Log-Likelihood:                -15893.\n",
       "No. Observations:                 808   AIC:                         3.184e+04\n",
       "Df Residuals:                     781   BIC:                         3.197e+04\n",
       "Df Model:                          26                                         \n",
       "Covariance Type:            nonrobust                                         \n",
       "=======================================================================================================\n",
       "                                          coef    std err          t      P>|t|      [0.025      0.975]\n",
       "-------------------------------------------------------------------------------------------------------\n",
       "const                               -1.471e+07   2.69e+07     -0.546      0.585   -6.76e+07    3.81e+07\n",
       "Budget                                  0.5703      0.069      8.317      0.000       0.436       0.705\n",
       "Runtime_tot_mins                     1.016e+06   1.82e+05      5.594      0.000     6.6e+05    1.37e+06\n",
       "cumul_freq_direct_r                  6.002e+06   4.35e+06      1.380      0.168   -2.54e+06    1.45e+07\n",
       "cumul_freq_actor_r                  -5.776e+05   2.17e+06     -0.267      0.790   -4.83e+06    3.68e+06\n",
       "Q2                                     2.2e+07   9.77e+06      2.251      0.025    2.82e+06    4.12e+07\n",
       "Q3                                  -2.608e+06   1.02e+07     -0.255      0.799   -2.27e+07    1.74e+07\n",
       "Q4                                   3.588e+06   9.95e+06      0.361      0.718   -1.59e+07    2.31e+07\n",
       "PG                                   1.369e+07    1.7e+07      0.806      0.420   -1.96e+07     4.7e+07\n",
       "PG-13                                1.258e+07   1.88e+07      0.670      0.503   -2.43e+07    4.94e+07\n",
       "R                                   -9.426e+06   1.97e+07     -0.479      0.632    -4.8e+07    2.92e+07\n",
       "Adventure                            1.533e+07   1.07e+07      1.428      0.154   -5.74e+06    3.64e+07\n",
       "Animation                            2.823e+07   3.98e+07      0.708      0.479      -5e+07    1.06e+08\n",
       "Biography                           -2.564e+07   1.76e+07     -1.456      0.146   -6.02e+07    8.92e+06\n",
       "Comedy                               5.722e+05   9.79e+06      0.058      0.953   -1.86e+07    1.98e+07\n",
       "Crime                               -1.321e+07   1.86e+07     -0.709      0.479   -4.98e+07    2.34e+07\n",
       "Documentary                         -6.066e+06   8.68e+07     -0.070      0.944   -1.76e+08    1.64e+08\n",
       "Drama                                3.619e+05   1.35e+07      0.027      0.979   -2.61e+07    2.68e+07\n",
       "Fantasy                             -3.891e+07   5.05e+07     -0.771      0.441   -1.38e+08    6.02e+07\n",
       "Horror                               3.307e+07   1.97e+07      1.680      0.093   -5.56e+06    7.17e+07\n",
       "Mystery                             -8.961e+06   6.14e+07     -0.146      0.884    -1.3e+08    1.12e+08\n",
       "Paramount Pictures                  -2.275e+07   1.18e+07     -1.925      0.055   -4.59e+07    4.44e+05\n",
       "Sony Pictures Entertainment (SPE)   -1.807e+07   1.15e+07     -1.569      0.117   -4.07e+07    4.53e+06\n",
       "Twentieth Century Fox               -7.559e+06    1.1e+07     -0.686      0.493   -2.92e+07    1.41e+07\n",
       "Universal Pictures                   4.989e+05   1.08e+07      0.046      0.963   -2.06e+07    2.16e+07\n",
       "Walt Disney Studios Motion Pictures  3.005e+07    1.2e+07      2.505      0.012     6.5e+06    5.36e+07\n",
       "Warner Bros.                        -1.567e+07   1.05e+07     -1.495      0.135   -3.62e+07     4.9e+06\n",
       "==============================================================================\n",
       "Omnibus:                      338.000   Durbin-Watson:                   0.588\n",
       "Prob(Omnibus):                  0.000   Jarque-Bera (JB):             2041.441\n",
       "Skew:                           1.796   Prob(JB):                         0.00\n",
       "Kurtosis:                       9.909   Cond. No.                     3.10e+09\n",
       "==============================================================================\n",
       "\n",
       "Notes:\n",
       "[1] Standard Errors assume that the covariance matrix of the errors is correctly specified.\n",
       "[2] The condition number is large, 3.1e+09. This might indicate that there are\n",
       "strong multicollinearity or other numerical problems.\n",
       "\"\"\""
      ]
     },
     "execution_count": 7,
     "metadata": {},
     "output_type": "execute_result"
    }
   ],
   "source": [
    "x = final.drop(columns=['Domestic_Gr'])\n",
    "\n",
    "x = sm.add_constant(x)\n",
    "y = final['Domestic_Gr']\n",
    "\n",
    "fin_model = sm.OLS(y,x, data = final)\n",
    "final_fit = fin_model.fit()\n",
    "final_fit.summary()"
   ]
  },
  {
   "cell_type": "code",
   "execution_count": 10,
   "id": "bc5e3ba5",
   "metadata": {},
   "outputs": [
    {
     "data": {
      "image/png": "[encoded data removed]",
      "text/plain": [
       "<Figure size 432x288 with 1 Axes>"
      ]
     },
     "metadata": {
      "needs_background": "light"
     },
     "output_type": "display_data"
    }
   ],
   "source": [
    "#from scipy import stats\n",
    "import matplotlib.pyplot as plt\n",
    "predict=final_fit.predict(x)\n",
    "resid=y-predict\n",
    "# diagnose/inspect residual normality using qqplot:\n",
    "stats.probplot(resid, dist=\"norm\", plot=plt)\n",
    "plt.title(\"Normal Q-Q plot\")\n",
    "plt.show()"
   ]
  },
  {
   "cell_type": "code",
   "execution_count": 14,
   "id": "4f046f56",
   "metadata": {},
   "outputs": [
    {
     "data": {
      "text/plain": [
       "Text(0.5, 1.0, 'Residuals vs. Predictions')"
      ]
     },
     "execution_count": 14,
     "metadata": {},
     "output_type": "execute_result"
    },
    {
     "data": {
      "image/png": "[encoded data removed]",
      "text/plain": [
       "<Figure size 432x288 with 1 Axes>"
      ]
     },
     "metadata": {
      "needs_background": "light"
     },
     "output_type": "display_data"
    }
   ],
   "source": [
    "# Plot Residuals vs. predicted\n",
    "plt.scatter(predict, resid)\n",
    "plt.plot([0,40], [0, 0])\n",
    "plt.title(\"Residuals vs. Predictions\")"
   ]
  },
  {
   "cell_type": "code",
   "execution_count": null,
   "id": "d99d4755",
   "metadata": {},
   "outputs": [],
   "source": [
    "# Fitted vs. Actual\n",
    "y_train_pred = lin_reg_est.predict(X_train)\n",
    "\n",
    "plt.scatter(y_train, y_train_pred, alpha=0.2)\n",
    "plt.plot([0, 400], [0, 400])"
   ]
  }
 ],
 "metadata": {
  "kernelspec": {
   "display_name": "Python 3 (regression)",
   "language": "python",
   "name": "regression"
  },
  "language_info": {
   "codemirror_mode": {
    "name": "ipython",
    "version": 3
   },
   "file_extension": ".py",
   "mimetype": "text/x-python",
   "name": "python",
   "nbconvert_exporter": "python",
   "pygments_lexer": "ipython3",
   "version": "3.9.7"
  }
 },
 "nbformat": 4,
 "nbformat_minor": 5
}
